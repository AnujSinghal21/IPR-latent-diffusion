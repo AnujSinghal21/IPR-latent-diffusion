{
 "cells": [
  {
   "cell_type": "markdown",
   "metadata": {},
   "source": [
    "# Run Model "
   ]
  },
  {
   "cell_type": "markdown",
   "metadata": {},
   "source": [
    "Do not forget to install the requirements.txt login to wandb before running the code. "
   ]
  },
  {
   "cell_type": "code",
   "execution_count": null,
   "metadata": {},
   "outputs": [],
   "source": [
    "# Train Latent Model\n",
    "! python train_latent_model.py --dataset_name roc --enc_dec_model facebook/bart-base --learning_rate 1e-4 --lr_warmup_steps 1000 --train_batch_size 256 --num_encoder_latents 32 --dim_ae 64 --num_decoder_latents 32  --eval_every 1000 --num_layers 3 --wandb_name bart-roc-l2norm-test-32-64 --l2_normalize_latent --num_train_steps 50000"
   ]
  },
  {
   "cell_type": "markdown",
   "metadata": {},
   "source": [
    "Note that the above code will generate new directory containing the learnt model files, the folder path need to be pasted below "
   ]
  },
  {
   "cell_type": "code",
   "execution_count": null,
   "metadata": {},
   "outputs": [],
   "source": [
    "# Train Diffusion Model\n",
    "! python train_text_diffusion.py --latent_model_path saved_latent_models/roc/2024-10-18_06-42-50 --dataset_name roc --learning_rate 2e-4 --num_train_steps 250000 --train_batch_size 128 --tx_dim 768 --tx_depth 12 --objective pred_v --enc_dec_model facebook/bart-base --num_samples 1000 --self_condition --scale_shift --loss_type l2 --train_schedule cosine --wandb_name roc_latent_v --sampling_timesteps 250 --save_and_sample_every 5000 --num_dense_connections 3  --optimizer adamw --train_prob_self_cond 0.5\n",
    "# Update the latent model path above with your local path (this was run on kaggle)"
   ]
  },
  {
   "cell_type": "code",
   "execution_count": null,
   "metadata": {},
   "outputs": [],
   "source": [
    "! python train_text_diffusion.py --eval_test --resume_dir /kaggle/working/saved_diff_models/roc/2024-10-19_13-39-17 --sampling_timesteps 250 --num_samples 100 --wandb_name roc_ddim --sampler ddpm --sampling_schedule cosine\n",
    "# Need to update teh resume_dir above with the directory path of trained diffusion model"
   ]
  }
 ],
 "metadata": {
  "language_info": {
   "name": "python"
  }
 },
 "nbformat": 4,
 "nbformat_minor": 2
}
